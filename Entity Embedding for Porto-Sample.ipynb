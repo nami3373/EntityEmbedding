{
 "cells": [
  {
   "cell_type": "markdown",
   "metadata": {},
   "source": [
    "Data Using for this experiment was taken from Kaggle \"Porto Seguro's Safe Driver Prediction\".\n",
    "https://www.kaggle.com/c/porto-seguro-safe-driver-prediction\n",
    "\n",
    "This work is based on following an excellent kernel.\n",
    "https://www.kaggle.com/aquatic/entity-embedding-neural-net"
   ]
  },
  {
   "cell_type": "code",
   "execution_count": 1,
   "metadata": {},
   "outputs": [
    {
     "name": "stderr",
     "output_type": "stream",
     "text": [
      "/Users/ys/anaconda/lib/python3.6/site-packages/h5py/__init__.py:34: FutureWarning: Conversion of the second argument of issubdtype from `float` to `np.floating` is deprecated. In future, it will be treated as `np.float64 == np.dtype(float).type`.\n",
      "  from ._conv import register_converters as _register_converters\n"
     ]
    }
   ],
   "source": [
    "import numpy as np\n",
    "import pandas as pd\n",
    "\n",
    "#random seeds for stochastic parts of neural network \n",
    "np.random.seed(10)\n",
    "from tensorflow import set_random_seed\n",
    "set_random_seed(15)"
   ]
  },
  {
   "cell_type": "code",
   "execution_count": 2,
   "metadata": {},
   "outputs": [
    {
     "name": "stderr",
     "output_type": "stream",
     "text": [
      "Using TensorFlow backend.\n"
     ]
    }
   ],
   "source": [
    "from keras.models import Sequential\n",
    "from keras.layers import Dense, Activation, Merge, Reshape, Dropout\n",
    "from keras.layers.embeddings import Embedding\n",
    "\n",
    "from sklearn.model_selection import StratifiedKFold"
   ]
  },
  {
   "cell_type": "markdown",
   "metadata": {},
   "source": [
    "## Data loading & preprocessing"
   ]
  },
  {
   "cell_type": "code",
   "execution_count": 3,
   "metadata": {},
   "outputs": [],
   "source": [
    "df_train = pd.read_csv('../input/train.csv')\n",
    "df_test = pd.read_csv('../input/test.csv')"
   ]
  },
  {
   "cell_type": "code",
   "execution_count": 4,
   "metadata": {},
   "outputs": [],
   "source": [
    "X_train, y_train = df_train.iloc[:,2:], df_train.target\n",
    "X_test = df_test.iloc[:,1:]"
   ]
  },
  {
   "cell_type": "code",
   "execution_count": 5,
   "metadata": {},
   "outputs": [],
   "source": [
    "# using subset of columns; col names start with 'ps_calc_'\n",
    "cols_use = [c for c in X_train.columns if (not c.startswith('ps_calc_'))]\n",
    "\n",
    "X_train = X_train[cols_use]\n",
    "X_test = X_test[cols_use]"
   ]
  },
  {
   "cell_type": "code",
   "execution_count": 6,
   "metadata": {},
   "outputs": [
    {
     "data": {
      "text/plain": [
       "595212"
      ]
     },
     "execution_count": 6,
     "metadata": {},
     "output_type": "execute_result"
    }
   ],
   "source": [
    "len(X_train)"
   ]
  },
  {
   "cell_type": "code",
   "execution_count": 7,
   "metadata": {},
   "outputs": [
    {
     "name": "stdout",
     "output_type": "stream",
     "text": [
      "ps_ind_02_cat: 5 values\n",
      "ps_ind_04_cat: 3 values\n",
      "ps_ind_05_cat: 8 values\n",
      "ps_car_01_cat: 13 values\n",
      "ps_car_02_cat: 3 values\n",
      "ps_car_03_cat: 3 values\n",
      "ps_car_04_cat: 10 values\n",
      "ps_car_05_cat: 3 values\n",
      "ps_car_06_cat: 18 values\n",
      "ps_car_07_cat: 3 values\n",
      "ps_car_09_cat: 6 values\n",
      "ps_car_10_cat: 3 values\n",
      "ps_car_11_cat: 104 values\n"
     ]
    }
   ],
   "source": [
    "col_vals_dict = {c: list(X_train[c].unique()) for c in X_train.columns if c.endswith('_cat')}\n",
    "\n",
    "# look at value counts to know the embedding dimensions\n",
    "embed_cols = []\n",
    "for c in col_vals_dict:\n",
    "    if len(col_vals_dict[c])>2:\n",
    "        embed_cols.append(c)\n",
    "        print(c + ': %d values' % len(col_vals_dict[c]))"
   ]
  },
  {
   "cell_type": "markdown",
   "metadata": {},
   "source": [
    "## Choosing 10000 samples with only 5 columns from entire dataset\n",
    "Subset data includes 2 umerical futures and 3 categorical features."
   ]
  },
  {
   "cell_type": "code",
   "execution_count": 8,
   "metadata": {
    "scrolled": true
   },
   "outputs": [
    {
     "data": {
      "text/html": [
       "<div>\n",
       "<style scoped>\n",
       "    .dataframe tbody tr th:only-of-type {\n",
       "        vertical-align: middle;\n",
       "    }\n",
       "\n",
       "    .dataframe tbody tr th {\n",
       "        vertical-align: top;\n",
       "    }\n",
       "\n",
       "    .dataframe thead th {\n",
       "        text-align: right;\n",
       "    }\n",
       "</style>\n",
       "<table border=\"1\" class=\"dataframe\">\n",
       "  <thead>\n",
       "    <tr style=\"text-align: right;\">\n",
       "      <th></th>\n",
       "      <th>ps_ind_01</th>\n",
       "      <th>ps_ind_02_cat</th>\n",
       "      <th>ps_ind_03</th>\n",
       "      <th>ps_ind_04_cat</th>\n",
       "      <th>ps_ind_05_cat</th>\n",
       "    </tr>\n",
       "  </thead>\n",
       "  <tbody>\n",
       "    <tr>\n",
       "      <th>0</th>\n",
       "      <td>2</td>\n",
       "      <td>2</td>\n",
       "      <td>5</td>\n",
       "      <td>1</td>\n",
       "      <td>0</td>\n",
       "    </tr>\n",
       "    <tr>\n",
       "      <th>1</th>\n",
       "      <td>1</td>\n",
       "      <td>1</td>\n",
       "      <td>7</td>\n",
       "      <td>0</td>\n",
       "      <td>0</td>\n",
       "    </tr>\n",
       "    <tr>\n",
       "      <th>2</th>\n",
       "      <td>5</td>\n",
       "      <td>4</td>\n",
       "      <td>9</td>\n",
       "      <td>1</td>\n",
       "      <td>0</td>\n",
       "    </tr>\n",
       "    <tr>\n",
       "      <th>3</th>\n",
       "      <td>0</td>\n",
       "      <td>1</td>\n",
       "      <td>2</td>\n",
       "      <td>0</td>\n",
       "      <td>0</td>\n",
       "    </tr>\n",
       "    <tr>\n",
       "      <th>4</th>\n",
       "      <td>0</td>\n",
       "      <td>2</td>\n",
       "      <td>0</td>\n",
       "      <td>1</td>\n",
       "      <td>0</td>\n",
       "    </tr>\n",
       "  </tbody>\n",
       "</table>\n",
       "</div>"
      ],
      "text/plain": [
       "   ps_ind_01  ps_ind_02_cat  ps_ind_03  ps_ind_04_cat  ps_ind_05_cat\n",
       "0          2              2          5              1              0\n",
       "1          1              1          7              0              0\n",
       "2          5              4          9              1              0\n",
       "3          0              1          2              0              0\n",
       "4          0              2          0              1              0"
      ]
     },
     "execution_count": 8,
     "metadata": {},
     "output_type": "execute_result"
    }
   ],
   "source": [
    "X_tr = X_train.iloc[:10000, :5]\n",
    "y_tr = y_train.iloc[:10000]\n",
    "\n",
    "X_tr.head()"
   ]
  },
  {
   "cell_type": "code",
   "execution_count": 9,
   "metadata": {},
   "outputs": [],
   "source": [
    "input_list_train = []\n",
    "\n",
    "# the cols to be embedded (categorical features): rescaling to range [0, # values)\n",
    "for c in X_tr.columns:\n",
    "    if c.endswith('cat'):\n",
    "        raw_vals = np.unique(X_tr[c])\n",
    "        val_map = {}\n",
    "        for i in range(len(raw_vals)):\n",
    "            val_map[raw_vals[i]] = i       \n",
    "        input_list_train.append(X_tr[c].map(val_map).values)\n",
    "\n",
    "# the rest of the columns (numerical features)\n",
    "other_cols = [c for c in X_tr.columns if (not c in embed_cols)]\n",
    "input_list_train.append(X_tr[other_cols].values)"
   ]
  },
  {
   "cell_type": "code",
   "execution_count": 10,
   "metadata": {},
   "outputs": [
    {
     "name": "stdout",
     "output_type": "stream",
     "text": [
      "[0 1 2 3 4]\n",
      "[0 1 2]\n",
      "[0 1 2 3 4 5 6 7]\n"
     ]
    }
   ],
   "source": [
    "print(np.unique(input_list_train[0]))\n",
    "print(np.unique(input_list_train[1]))\n",
    "print(np.unique(input_list_train[2]))"
   ]
  },
  {
   "cell_type": "code",
   "execution_count": 11,
   "metadata": {},
   "outputs": [
    {
     "name": "stdout",
     "output_type": "stream",
     "text": [
      "ps_ind_02_cat contains 5 unique values.\n",
      "ps_ind_04_cat contains 3 unique values.\n",
      "ps_ind_05_cat contains 8 unique values.\n"
     ]
    },
    {
     "data": {
      "text/plain": [
       "[None, None, None]"
      ]
     },
     "execution_count": 11,
     "metadata": {},
     "output_type": "execute_result"
    }
   ],
   "source": [
    "# make sure each categorical feature contain ceartain unique values\n",
    "[print(c, 'contains',  X_tr[c].nunique(), 'unique values.') for c in X_tr.columns if c.endswith('cat')]"
   ]
  },
  {
   "cell_type": "code",
   "execution_count": 12,
   "metadata": {},
   "outputs": [
    {
     "data": {
      "text/plain": [
       "(10000, 2)"
      ]
     },
     "execution_count": 12,
     "metadata": {},
     "output_type": "execute_result"
    }
   ],
   "source": [
    "# checking shape of rest of the columns (non categorical)\n",
    "input_list_train[3].shape"
   ]
  },
  {
   "cell_type": "markdown",
   "metadata": {},
   "source": [
    "## Build NN model for Entity Embedding"
   ]
  },
  {
   "cell_type": "code",
   "execution_count": 13,
   "metadata": {
    "code_folding": []
   },
   "outputs": [],
   "source": [
    "def build_embedding_network():\n",
    "    \n",
    "    models = []\n",
    "    \n",
    "    model_ps_ind_02_cat = Sequential()\n",
    "    model_ps_ind_02_cat.add(Embedding(5, 3, input_length=1))\n",
    "    model_ps_ind_02_cat.add(Reshape(target_shape=(3,)))\n",
    "    models.append(model_ps_ind_02_cat)\n",
    "    \n",
    "    model_ps_ind_04_cat = Sequential()\n",
    "    model_ps_ind_04_cat.add(Embedding(3, 2, input_length=1))\n",
    "    model_ps_ind_04_cat.add(Reshape(target_shape=(2,)))\n",
    "    models.append(model_ps_ind_04_cat)\n",
    "    \n",
    "    model_ps_ind_05_cat = Sequential()\n",
    "    model_ps_ind_05_cat.add(Embedding(8, 5, input_length=1))\n",
    "    model_ps_ind_05_cat.add(Reshape(target_shape=(5,)))\n",
    "    models.append(model_ps_ind_05_cat)\n",
    "        \n",
    "    model_rest = Sequential()\n",
    "    model_rest.add(Dense(16, input_dim=2))\n",
    "    models.append(model_rest)\n",
    "\n",
    "    model = Sequential()\n",
    "    model.add(Merge(models, mode='concat'))\n",
    "    model.add(Dense(80))\n",
    "    model.add(Activation('relu'))\n",
    "    model.add(Dropout(.35))\n",
    "    model.add(Dense(20))\n",
    "    model.add(Activation('relu'))\n",
    "    model.add(Dropout(.15))\n",
    "    model.add(Dense(10))\n",
    "    model.add(Activation('relu'))\n",
    "    model.add(Dropout(.15))\n",
    "    model.add(Dense(1))\n",
    "    model.add(Activation('sigmoid'))\n",
    "\n",
    "    model.compile(loss='binary_crossentropy', optimizer='adam')\n",
    "    \n",
    "    return model"
   ]
  },
  {
   "cell_type": "code",
   "execution_count": 14,
   "metadata": {},
   "outputs": [],
   "source": [
    "# track oof prediction for cv scores\n",
    "val_preds = 0\n",
    "y_preds = np.zeros((np.shape(X_test)[0]))"
   ]
  },
  {
   "cell_type": "code",
   "execution_count": 15,
   "metadata": {},
   "outputs": [],
   "source": [
    "runs_per_fold = 3\n",
    "n_epochs = 15"
   ]
  },
  {
   "cell_type": "code",
   "execution_count": 16,
   "metadata": {
    "scrolled": true
   },
   "outputs": [
    {
     "name": "stderr",
     "output_type": "stream",
     "text": [
      "/Users/ys/anaconda/lib/python3.6/site-packages/ipykernel_launcher.py:25: UserWarning: The `Merge` layer is deprecated and will be removed after 08/2017. Use instead layers from `keras.layers.merge`, e.g. `add`, `concatenate`, etc.\n"
     ]
    }
   ],
   "source": [
    "# fiting subset of train data to taget value\n",
    "for j in range(runs_per_fold):\n",
    "    NN = build_embedding_network()\n",
    "    NN.fit(input_list_train, y_tr.values, epochs=n_epochs, batch_size=4096, verbose=0)\n",
    "   \n",
    "    # y_preds += NN.predict(proc_X_test)[:,0] / runs_per_fold"
   ]
  },
  {
   "cell_type": "code",
   "execution_count": 17,
   "metadata": {},
   "outputs": [
    {
     "name": "stdout",
     "output_type": "stream",
     "text": [
      "_________________________________________________________________\n",
      "Layer (type)                 Output Shape              Param #   \n",
      "=================================================================\n",
      "merge_3 (Merge)              (None, 26)                0         \n",
      "_________________________________________________________________\n",
      "dense_12 (Dense)             (None, 80)                2160      \n",
      "_________________________________________________________________\n",
      "activation_9 (Activation)    (None, 80)                0         \n",
      "_________________________________________________________________\n",
      "dropout_7 (Dropout)          (None, 80)                0         \n",
      "_________________________________________________________________\n",
      "dense_13 (Dense)             (None, 20)                1620      \n",
      "_________________________________________________________________\n",
      "activation_10 (Activation)   (None, 20)                0         \n",
      "_________________________________________________________________\n",
      "dropout_8 (Dropout)          (None, 20)                0         \n",
      "_________________________________________________________________\n",
      "dense_14 (Dense)             (None, 10)                210       \n",
      "_________________________________________________________________\n",
      "activation_11 (Activation)   (None, 10)                0         \n",
      "_________________________________________________________________\n",
      "dropout_9 (Dropout)          (None, 10)                0         \n",
      "_________________________________________________________________\n",
      "dense_15 (Dense)             (None, 1)                 11        \n",
      "_________________________________________________________________\n",
      "activation_12 (Activation)   (None, 1)                 0         \n",
      "=================================================================\n",
      "Total params: 4,110\n",
      "Trainable params: 4,110\n",
      "Non-trainable params: 0\n",
      "_________________________________________________________________\n"
     ]
    }
   ],
   "source": [
    "NN.summary()"
   ]
  },
  {
   "cell_type": "markdown",
   "metadata": {},
   "source": [
    "## Checking weights for each categorical feature"
   ]
  },
  {
   "cell_type": "code",
   "execution_count": 18,
   "metadata": {},
   "outputs": [],
   "source": [
    "weights = NN.get_weights()"
   ]
  },
  {
   "cell_type": "code",
   "execution_count": 19,
   "metadata": {},
   "outputs": [
    {
     "data": {
      "text/plain": [
       "18"
      ]
     },
     "execution_count": 19,
     "metadata": {},
     "output_type": "execute_result"
    }
   ],
   "source": [
    "len(weights)"
   ]
  },
  {
   "cell_type": "code",
   "execution_count": 20,
   "metadata": {
    "scrolled": true
   },
   "outputs": [
    {
     "name": "stdout",
     "output_type": "stream",
     "text": [
      "[[-0.02200509  0.04319452 -0.03653887]\n",
      " [ 0.0770293   0.00489654 -0.00247264]\n",
      " [ 0.06709933  0.09106427 -0.01616774]\n",
      " [ 0.03431904  0.01542955 -0.00072964]\n",
      " [ 0.05137567 -0.02562283 -0.03074536]]\n"
     ]
    }
   ],
   "source": [
    "# ps_ind_02_cat: 5*3 matrix\n",
    "print(weights[0][0])"
   ]
  },
  {
   "cell_type": "code",
   "execution_count": 21,
   "metadata": {},
   "outputs": [
    {
     "name": "stdout",
     "output_type": "stream",
     "text": [
      "[[ 0.0419449  -0.02938309]\n",
      " [ 0.0579549  -0.03725957]\n",
      " [-0.0150009   0.02484703]]\n"
     ]
    }
   ],
   "source": [
    "# ps_ind_04_cat: 3*2 matrix\n",
    "print(weights[2][0])"
   ]
  },
  {
   "cell_type": "code",
   "execution_count": 22,
   "metadata": {},
   "outputs": [
    {
     "name": "stdout",
     "output_type": "stream",
     "text": [
      "[[ 0.07340115 -0.0658811   0.02774858 -0.04807903 -0.02562266]\n",
      " [ 0.05910323 -0.05320253  0.06396441  0.04002887 -0.04610789]\n",
      " [-0.03580792  0.02135029  0.02098037  0.04861105 -0.032686  ]\n",
      " [-0.02894982 -0.02541417  0.05249073  0.0445907   0.01066875]\n",
      " [ 0.02661128 -0.01903299 -0.00638229 -0.00375705  0.02683738]\n",
      " [ 0.05469328 -0.01887664  0.00190938 -0.0392197  -0.0403111 ]\n",
      " [ 0.01924985 -0.0019205   0.00478835  0.04196957  0.00983921]\n",
      " [ 0.0594023  -0.07615691  0.06344219 -0.04673522 -0.01267588]]\n"
     ]
    }
   ],
   "source": [
    "# ps_ind_05_cat: 8*5 matrix\n",
    "print(weights[4][0])"
   ]
  },
  {
   "cell_type": "code",
   "execution_count": 23,
   "metadata": {
    "scrolled": true
   },
   "outputs": [
    {
     "data": {
      "text/html": [
       "<div>\n",
       "<style scoped>\n",
       "    .dataframe tbody tr th:only-of-type {\n",
       "        vertical-align: middle;\n",
       "    }\n",
       "\n",
       "    .dataframe tbody tr th {\n",
       "        vertical-align: top;\n",
       "    }\n",
       "\n",
       "    .dataframe thead th {\n",
       "        text-align: right;\n",
       "    }\n",
       "</style>\n",
       "<table border=\"1\" class=\"dataframe\">\n",
       "  <thead>\n",
       "    <tr style=\"text-align: right;\">\n",
       "      <th></th>\n",
       "      <th>y_pred</th>\n",
       "      <th>y_true</th>\n",
       "    </tr>\n",
       "  </thead>\n",
       "  <tbody>\n",
       "    <tr>\n",
       "      <th>0</th>\n",
       "      <td>0.012422</td>\n",
       "      <td>0</td>\n",
       "    </tr>\n",
       "    <tr>\n",
       "      <th>1</th>\n",
       "      <td>0.004006</td>\n",
       "      <td>0</td>\n",
       "    </tr>\n",
       "    <tr>\n",
       "      <th>2</th>\n",
       "      <td>0.000406</td>\n",
       "      <td>0</td>\n",
       "    </tr>\n",
       "    <tr>\n",
       "      <th>3</th>\n",
       "      <td>0.134801</td>\n",
       "      <td>0</td>\n",
       "    </tr>\n",
       "    <tr>\n",
       "      <th>4</th>\n",
       "      <td>0.352139</td>\n",
       "      <td>0</td>\n",
       "    </tr>\n",
       "  </tbody>\n",
       "</table>\n",
       "</div>"
      ],
      "text/plain": [
       "     y_pred  y_true\n",
       "0  0.012422       0\n",
       "1  0.004006       0\n",
       "2  0.000406       0\n",
       "3  0.134801       0\n",
       "4  0.352139       0"
      ]
     },
     "execution_count": 23,
     "metadata": {},
     "output_type": "execute_result"
    }
   ],
   "source": [
    "pd.DataFrame({'y_true': y_tr.values, 'y_pred': NN.predict(input_list_train).flatten()}).head()"
   ]
  },
  {
   "cell_type": "markdown",
   "metadata": {},
   "source": [
    "## Evaluation"
   ]
  },
  {
   "cell_type": "code",
   "execution_count": 24,
   "metadata": {},
   "outputs": [
    {
     "name": "stdout",
     "output_type": "stream",
     "text": [
      "0.479835\n"
     ]
    }
   ],
   "source": [
    "from sklearn import metrics\n",
    "score = metrics.roc_auc_score(y_tr.values, NN.predict(input_list_train).flatten())\n",
    "print(\"{:.6}\".format(score))"
   ]
  }
 ],
 "metadata": {
  "kernelspec": {
   "display_name": "py36",
   "language": "python",
   "name": "py36"
  },
  "language_info": {
   "codemirror_mode": {
    "name": "ipython",
    "version": 3
   },
   "file_extension": ".py",
   "mimetype": "text/x-python",
   "name": "python",
   "nbconvert_exporter": "python",
   "pygments_lexer": "ipython3",
   "version": "3.6.1"
  }
 },
 "nbformat": 4,
 "nbformat_minor": 2
}
